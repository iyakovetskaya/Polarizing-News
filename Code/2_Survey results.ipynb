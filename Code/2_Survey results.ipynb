{
 "cells": [
  {
   "cell_type": "markdown",
   "metadata": {},
   "source": [
    "## Table A5"
   ]
  },
  {
   "cell_type": "code",
   "execution_count": 1,
   "metadata": {},
   "outputs": [],
   "source": [
    "import pandas as pd\n",
    "import numpy as np"
   ]
  },
  {
   "cell_type": "code",
   "execution_count": 2,
   "metadata": {},
   "outputs": [],
   "source": [
    "df=pd.read_csv('../Data/survey_results.csv')\n",
    "names=pd.read_csv('../Data/LDA_final_topic_names.csv').New_short.tolist()"
   ]
  },
  {
   "cell_type": "markdown",
   "metadata": {},
   "source": [
    "## Table A5"
   ]
  },
  {
   "cell_type": "code",
   "execution_count": 3,
   "metadata": {},
   "outputs": [
    {
     "data": {
      "text/html": [
       "<div>\n",
       "<style scoped>\n",
       "    .dataframe tbody tr th:only-of-type {\n",
       "        vertical-align: middle;\n",
       "    }\n",
       "\n",
       "    .dataframe tbody tr th {\n",
       "        vertical-align: top;\n",
       "    }\n",
       "\n",
       "    .dataframe thead th {\n",
       "        text-align: right;\n",
       "    }\n",
       "</style>\n",
       "<table border=\"1\" class=\"dataframe\">\n",
       "  <thead>\n",
       "    <tr style=\"text-align: right;\">\n",
       "      <th></th>\n",
       "      <th>num_observations</th>\n",
       "      <th>mean_polarization</th>\n",
       "      <th>mean_important</th>\n",
       "    </tr>\n",
       "  </thead>\n",
       "  <tbody>\n",
       "    <tr>\n",
       "      <th>Politics</th>\n",
       "      <td>53.0</td>\n",
       "      <td>0.89</td>\n",
       "      <td>-0.05</td>\n",
       "    </tr>\n",
       "    <tr>\n",
       "      <th>Donald Trump</th>\n",
       "      <td>50.0</td>\n",
       "      <td>0.88</td>\n",
       "      <td>0.11</td>\n",
       "    </tr>\n",
       "    <tr>\n",
       "      <th>Elections</th>\n",
       "      <td>45.0</td>\n",
       "      <td>0.79</td>\n",
       "      <td>0.21</td>\n",
       "    </tr>\n",
       "    <tr>\n",
       "      <th>Joe Biden</th>\n",
       "      <td>43.0</td>\n",
       "      <td>0.78</td>\n",
       "      <td>-0.25</td>\n",
       "    </tr>\n",
       "    <tr>\n",
       "      <th>Political Investigations</th>\n",
       "      <td>51.0</td>\n",
       "      <td>0.77</td>\n",
       "      <td>-0.27</td>\n",
       "    </tr>\n",
       "    <tr>\n",
       "      <th>Black Lives Matter</th>\n",
       "      <td>55.0</td>\n",
       "      <td>0.72</td>\n",
       "      <td>0.55</td>\n",
       "    </tr>\n",
       "    <tr>\n",
       "      <th>Women's Issues</th>\n",
       "      <td>43.0</td>\n",
       "      <td>0.69</td>\n",
       "      <td>1.02</td>\n",
       "    </tr>\n",
       "    <tr>\n",
       "      <th>Racial Identity</th>\n",
       "      <td>47.0</td>\n",
       "      <td>0.57</td>\n",
       "      <td>0.83</td>\n",
       "    </tr>\n",
       "    <tr>\n",
       "      <th>Judicial System</th>\n",
       "      <td>61.0</td>\n",
       "      <td>0.57</td>\n",
       "      <td>-0.01</td>\n",
       "    </tr>\n",
       "    <tr>\n",
       "      <th>American Military</th>\n",
       "      <td>49.0</td>\n",
       "      <td>0.46</td>\n",
       "      <td>-0.16</td>\n",
       "    </tr>\n",
       "    <tr>\n",
       "      <th>Coronavirus</th>\n",
       "      <td>42.0</td>\n",
       "      <td>0.45</td>\n",
       "      <td>0.77</td>\n",
       "    </tr>\n",
       "    <tr>\n",
       "      <th>Covid Vaccine</th>\n",
       "      <td>45.0</td>\n",
       "      <td>0.44</td>\n",
       "      <td>0.39</td>\n",
       "    </tr>\n",
       "    <tr>\n",
       "      <th>Power and Climate</th>\n",
       "      <td>52.0</td>\n",
       "      <td>0.38</td>\n",
       "      <td>0.39</td>\n",
       "    </tr>\n",
       "    <tr>\n",
       "      <th>Covid Protection</th>\n",
       "      <td>49.0</td>\n",
       "      <td>0.36</td>\n",
       "      <td>0.45</td>\n",
       "    </tr>\n",
       "    <tr>\n",
       "      <th>World News</th>\n",
       "      <td>41.0</td>\n",
       "      <td>0.34</td>\n",
       "      <td>0.12</td>\n",
       "    </tr>\n",
       "    <tr>\n",
       "      <th>Public Health</th>\n",
       "      <td>36.0</td>\n",
       "      <td>0.33</td>\n",
       "      <td>0.36</td>\n",
       "    </tr>\n",
       "    <tr>\n",
       "      <th>Israel</th>\n",
       "      <td>48.0</td>\n",
       "      <td>0.33</td>\n",
       "      <td>-0.38</td>\n",
       "    </tr>\n",
       "    <tr>\n",
       "      <th>Church</th>\n",
       "      <td>46.0</td>\n",
       "      <td>0.25</td>\n",
       "      <td>-0.32</td>\n",
       "    </tr>\n",
       "    <tr>\n",
       "      <th>China, India</th>\n",
       "      <td>42.0</td>\n",
       "      <td>0.25</td>\n",
       "      <td>-0.34</td>\n",
       "    </tr>\n",
       "    <tr>\n",
       "      <th>Business</th>\n",
       "      <td>47.0</td>\n",
       "      <td>0.20</td>\n",
       "      <td>0.65</td>\n",
       "    </tr>\n",
       "    <tr>\n",
       "      <th>Russia</th>\n",
       "      <td>41.0</td>\n",
       "      <td>0.14</td>\n",
       "      <td>-0.08</td>\n",
       "    </tr>\n",
       "    <tr>\n",
       "      <th>Social Media</th>\n",
       "      <td>42.0</td>\n",
       "      <td>0.08</td>\n",
       "      <td>-0.24</td>\n",
       "    </tr>\n",
       "    <tr>\n",
       "      <th>Education</th>\n",
       "      <td>45.0</td>\n",
       "      <td>-0.04</td>\n",
       "      <td>0.37</td>\n",
       "    </tr>\n",
       "    <tr>\n",
       "      <th>Science</th>\n",
       "      <td>46.0</td>\n",
       "      <td>-0.12</td>\n",
       "      <td>-0.03</td>\n",
       "    </tr>\n",
       "    <tr>\n",
       "      <th>Money</th>\n",
       "      <td>43.0</td>\n",
       "      <td>-0.18</td>\n",
       "      <td>0.17</td>\n",
       "    </tr>\n",
       "    <tr>\n",
       "      <th>Judaism</th>\n",
       "      <td>50.0</td>\n",
       "      <td>-0.18</td>\n",
       "      <td>-0.70</td>\n",
       "    </tr>\n",
       "    <tr>\n",
       "      <th>Family</th>\n",
       "      <td>39.0</td>\n",
       "      <td>-0.32</td>\n",
       "      <td>0.74</td>\n",
       "    </tr>\n",
       "    <tr>\n",
       "      <th>New York City</th>\n",
       "      <td>42.0</td>\n",
       "      <td>-0.33</td>\n",
       "      <td>-0.73</td>\n",
       "    </tr>\n",
       "    <tr>\n",
       "      <th>Feelings</th>\n",
       "      <td>43.0</td>\n",
       "      <td>-0.34</td>\n",
       "      <td>0.42</td>\n",
       "    </tr>\n",
       "    <tr>\n",
       "      <th>Nature</th>\n",
       "      <td>42.0</td>\n",
       "      <td>-0.45</td>\n",
       "      <td>-0.19</td>\n",
       "    </tr>\n",
       "    <tr>\n",
       "      <th>Health Research</th>\n",
       "      <td>39.0</td>\n",
       "      <td>-0.46</td>\n",
       "      <td>-0.01</td>\n",
       "    </tr>\n",
       "    <tr>\n",
       "      <th>Real Estate</th>\n",
       "      <td>58.0</td>\n",
       "      <td>-0.60</td>\n",
       "      <td>-0.37</td>\n",
       "    </tr>\n",
       "    <tr>\n",
       "      <th>Music/Movies</th>\n",
       "      <td>46.0</td>\n",
       "      <td>-0.62</td>\n",
       "      <td>0.29</td>\n",
       "    </tr>\n",
       "    <tr>\n",
       "      <th>Books</th>\n",
       "      <td>47.0</td>\n",
       "      <td>-0.82</td>\n",
       "      <td>-0.25</td>\n",
       "    </tr>\n",
       "    <tr>\n",
       "      <th>Sports</th>\n",
       "      <td>58.0</td>\n",
       "      <td>-0.90</td>\n",
       "      <td>-0.03</td>\n",
       "    </tr>\n",
       "    <tr>\n",
       "      <th>Horse Racing</th>\n",
       "      <td>44.0</td>\n",
       "      <td>-0.93</td>\n",
       "      <td>-1.10</td>\n",
       "    </tr>\n",
       "    <tr>\n",
       "      <th>Art, Planes</th>\n",
       "      <td>46.0</td>\n",
       "      <td>-0.95</td>\n",
       "      <td>-0.80</td>\n",
       "    </tr>\n",
       "    <tr>\n",
       "      <th>Food</th>\n",
       "      <td>42.0</td>\n",
       "      <td>-1.00</td>\n",
       "      <td>0.21</td>\n",
       "    </tr>\n",
       "    <tr>\n",
       "      <th>Architecture</th>\n",
       "      <td>50.0</td>\n",
       "      <td>-1.26</td>\n",
       "      <td>-0.84</td>\n",
       "    </tr>\n",
       "    <tr>\n",
       "      <th>Pets and Animals</th>\n",
       "      <td>52.0</td>\n",
       "      <td>-1.27</td>\n",
       "      <td>-0.33</td>\n",
       "    </tr>\n",
       "  </tbody>\n",
       "</table>\n",
       "</div>"
      ],
      "text/plain": [
       "                          num_observations  mean_polarization  mean_important\n",
       "Politics                              53.0               0.89           -0.05\n",
       "Donald Trump                          50.0               0.88            0.11\n",
       "Elections                             45.0               0.79            0.21\n",
       "Joe Biden                             43.0               0.78           -0.25\n",
       "Political Investigations              51.0               0.77           -0.27\n",
       "Black Lives Matter                    55.0               0.72            0.55\n",
       "Women's Issues                        43.0               0.69            1.02\n",
       "Racial Identity                       47.0               0.57            0.83\n",
       "Judicial System                       61.0               0.57           -0.01\n",
       "American Military                     49.0               0.46           -0.16\n",
       "Coronavirus                           42.0               0.45            0.77\n",
       "Covid Vaccine                         45.0               0.44            0.39\n",
       "Power and Climate                     52.0               0.38            0.39\n",
       "Covid Protection                      49.0               0.36            0.45\n",
       "World News                            41.0               0.34            0.12\n",
       "Public Health                         36.0               0.33            0.36\n",
       "Israel                                48.0               0.33           -0.38\n",
       "Church                                46.0               0.25           -0.32\n",
       "China, India                          42.0               0.25           -0.34\n",
       "Business                              47.0               0.20            0.65\n",
       "Russia                                41.0               0.14           -0.08\n",
       "Social Media                          42.0               0.08           -0.24\n",
       "Education                             45.0              -0.04            0.37\n",
       "Science                               46.0              -0.12           -0.03\n",
       "Money                                 43.0              -0.18            0.17\n",
       "Judaism                               50.0              -0.18           -0.70\n",
       "Family                                39.0              -0.32            0.74\n",
       "New York City                         42.0              -0.33           -0.73\n",
       "Feelings                              43.0              -0.34            0.42\n",
       "Nature                                42.0              -0.45           -0.19\n",
       "Health Research                       39.0              -0.46           -0.01\n",
       "Real Estate                           58.0              -0.60           -0.37\n",
       "Music/Movies                          46.0              -0.62            0.29\n",
       "Books                                 47.0              -0.82           -0.25\n",
       "Sports                                58.0              -0.90           -0.03\n",
       "Horse Racing                          44.0              -0.93           -1.10\n",
       "Art, Planes                           46.0              -0.95           -0.80\n",
       "Food                                  42.0              -1.00            0.21\n",
       "Architecture                          50.0              -1.26           -0.84\n",
       "Pets and Animals                      52.0              -1.27           -0.33"
      ]
     },
     "execution_count": 3,
     "metadata": {},
     "output_type": "execute_result"
    }
   ],
   "source": [
    "pol=df[ ['polarization_'+str(i) for i in range(1,41)]].iloc[2:,:].astype('Int64')\n",
    "pol=((pol.T-pol.mean(axis=1))/pol.std(axis=1)).T.astype('float')\n",
    "\n",
    "pers=df[ ['Personal_4_'+str(i) for i in range(1,41)]].iloc[2:,:].astype('Int64')\n",
    "pers=((pers.T-pers.mean(axis=1))/pers.std(axis=1)).T.astype('float')\n",
    "\n",
    "summary=np.round(pol.agg(['count', 'mean']),2).T\n",
    "summary['important']=np.round(pers.mean(),2).T.tolist()\n",
    "#summary['coef']=coef['x'].to_list()+[0]\n",
    "\n",
    "summary.index=names\n",
    "summary.columns=['num_observations', 'mean_polarization', 'mean_important']#, 'coef']\n",
    "summary.sort_values(by='mean_polarization', ascending=False, inplace=True)\n",
    "\n",
    "summary\n",
    "\n",
    "# with pd.option_context(\"max_colwidth\", 1000):\n",
    "#     print(summary.to_latex(caption='Survey results (standardized)', label='survey', longtable=True))"
   ]
  },
  {
   "cell_type": "markdown",
   "metadata": {},
   "source": [
    "## Other Survey Results and Demographics "
   ]
  },
  {
   "cell_type": "code",
   "execution_count": 4,
   "metadata": {},
   "outputs": [
    {
     "data": {
      "text/html": [
       "<div>\n",
       "<style scoped>\n",
       "    .dataframe tbody tr th:only-of-type {\n",
       "        vertical-align: middle;\n",
       "    }\n",
       "\n",
       "    .dataframe tbody tr th {\n",
       "        vertical-align: top;\n",
       "    }\n",
       "\n",
       "    .dataframe thead th {\n",
       "        text-align: right;\n",
       "    }\n",
       "</style>\n",
       "<table border=\"1\" class=\"dataframe\">\n",
       "  <thead>\n",
       "    <tr style=\"text-align: right;\">\n",
       "      <th></th>\n",
       "      <th>Duration (in seconds)</th>\n",
       "      <th>Personal_1</th>\n",
       "      <th>Personal_7</th>\n",
       "    </tr>\n",
       "  </thead>\n",
       "  <tbody>\n",
       "    <tr>\n",
       "      <th>count</th>\n",
       "      <td>193.0</td>\n",
       "      <td>193.0</td>\n",
       "      <td>193.0</td>\n",
       "    </tr>\n",
       "    <tr>\n",
       "      <th>mean</th>\n",
       "      <td>272.823834</td>\n",
       "      <td>20.751295</td>\n",
       "      <td>2.953368</td>\n",
       "    </tr>\n",
       "    <tr>\n",
       "      <th>std</th>\n",
       "      <td>466.03858</td>\n",
       "      <td>1.955311</td>\n",
       "      <td>1.292165</td>\n",
       "    </tr>\n",
       "    <tr>\n",
       "      <th>min</th>\n",
       "      <td>54.0</td>\n",
       "      <td>18.0</td>\n",
       "      <td>1.0</td>\n",
       "    </tr>\n",
       "    <tr>\n",
       "      <th>25%</th>\n",
       "      <td>102.0</td>\n",
       "      <td>20.0</td>\n",
       "      <td>2.0</td>\n",
       "    </tr>\n",
       "    <tr>\n",
       "      <th>50%</th>\n",
       "      <td>125.0</td>\n",
       "      <td>20.0</td>\n",
       "      <td>3.0</td>\n",
       "    </tr>\n",
       "    <tr>\n",
       "      <th>75%</th>\n",
       "      <td>171.0</td>\n",
       "      <td>21.0</td>\n",
       "      <td>4.0</td>\n",
       "    </tr>\n",
       "    <tr>\n",
       "      <th>max</th>\n",
       "      <td>2954.0</td>\n",
       "      <td>31.0</td>\n",
       "      <td>5.0</td>\n",
       "    </tr>\n",
       "  </tbody>\n",
       "</table>\n",
       "</div>"
      ],
      "text/plain": [
       "       Duration (in seconds)  Personal_1  Personal_7\n",
       "count                  193.0       193.0       193.0\n",
       "mean              272.823834   20.751295    2.953368\n",
       "std                466.03858    1.955311    1.292165\n",
       "min                     54.0        18.0         1.0\n",
       "25%                    102.0        20.0         2.0\n",
       "50%                    125.0        20.0         3.0\n",
       "75%                    171.0        21.0         4.0\n",
       "max                   2954.0        31.0         5.0"
      ]
     },
     "execution_count": 4,
     "metadata": {},
     "output_type": "execute_result"
    }
   ],
   "source": [
    "df.loc[2:,['Duration (in seconds)', 'Personal_1', 'Personal_7']].astype('Int64').describe()"
   ]
  },
  {
   "cell_type": "markdown",
   "metadata": {},
   "source": [
    "### 2"
   ]
  },
  {
   "cell_type": "code",
   "execution_count": 5,
   "metadata": {},
   "outputs": [
    {
     "data": {
      "text/plain": [
       "Personal_2\n",
       "1    100\n",
       "2     92\n",
       "3      1\n",
       "Name: count, dtype: int64"
      ]
     },
     "execution_count": 5,
     "metadata": {},
     "output_type": "execute_result"
    }
   ],
   "source": [
    "df.iloc[2:,:].Personal_2.value_counts()"
   ]
  },
  {
   "cell_type": "markdown",
   "metadata": {},
   "source": [
    "### 3"
   ]
  },
  {
   "cell_type": "code",
   "execution_count": 6,
   "metadata": {},
   "outputs": [
    {
     "data": {
      "text/plain": [
       "Personal_3\n",
       "2    107\n",
       "3     68\n",
       "1     18\n",
       "Name: count, dtype: int64"
      ]
     },
     "execution_count": 6,
     "metadata": {},
     "output_type": "execute_result"
    }
   ],
   "source": [
    "df.iloc[2:,:].Personal_3.value_counts()"
   ]
  },
  {
   "cell_type": "markdown",
   "metadata": {},
   "source": [
    "### 5\n",
    "In the last 12 months, how often have you visited news websites and/or read newspapers?"
   ]
  },
  {
   "cell_type": "code",
   "execution_count": 7,
   "metadata": {},
   "outputs": [
    {
     "data": {
      "text/plain": [
       "Personal_5\n",
       "1    29\n",
       "2    40\n",
       "3    69\n",
       "4    39\n",
       "5    16\n",
       "Name: count, dtype: int64"
      ]
     },
     "execution_count": 7,
     "metadata": {},
     "output_type": "execute_result"
    }
   ],
   "source": [
    "df.iloc[2:,:].Personal_5.value_counts().sort_index()"
   ]
  },
  {
   "cell_type": "markdown",
   "metadata": {},
   "source": [
    "### 6\n",
    "Choose the top three news sources you typically read or follow"
   ]
  },
  {
   "cell_type": "code",
   "execution_count": 8,
   "metadata": {},
   "outputs": [
    {
     "data": {
      "text/plain": [
       "3.0362694300518136"
      ]
     },
     "execution_count": 8,
     "metadata": {},
     "output_type": "execute_result"
    }
   ],
   "source": [
    "df.iloc[2:,:].Personal_6.str.split(',').str.len().mean()"
   ]
  },
  {
   "cell_type": "code",
   "execution_count": 9,
   "metadata": {},
   "outputs": [
    {
     "data": {
      "text/plain": [
       "1     0.751295\n",
       "2     0.362694\n",
       "3     0.088083\n",
       "4     0.709845\n",
       "5     0.196891\n",
       "6     0.093264\n",
       "7     0.160622\n",
       "8     0.316062\n",
       "9     0.082902\n",
       "10    0.274611\n",
       "Name: count, dtype: Float64"
      ]
     },
     "execution_count": 9,
     "metadata": {},
     "output_type": "execute_result"
    }
   ],
   "source": [
    "pd.Series(np.concatenate(df.iloc[2:,:].Personal_6.str.split(',').tolist())\n",
    "         ).astype('Int64').value_counts().sort_index()/193"
   ]
  },
  {
   "cell_type": "markdown",
   "metadata": {},
   "source": [
    "### 7\n",
    "If you read a news article that you find interesting, how likely are you to share it with others?"
   ]
  },
  {
   "cell_type": "code",
   "execution_count": 10,
   "metadata": {},
   "outputs": [
    {
     "data": {
      "text/plain": [
       "Personal_7\n",
       "1    0.165803\n",
       "2    0.264249\n",
       "3    0.113990\n",
       "4    0.362694\n",
       "5    0.093264\n",
       "Name: count, dtype: float64"
      ]
     },
     "execution_count": 10,
     "metadata": {},
     "output_type": "execute_result"
    }
   ],
   "source": [
    "df.iloc[2:,:].Personal_7.value_counts().sort_index()/193"
   ]
  },
  {
   "cell_type": "markdown",
   "metadata": {},
   "source": [
    "### 8\n",
    "If you do share it, what medium are you likely to use: "
   ]
  },
  {
   "cell_type": "code",
   "execution_count": 11,
   "metadata": {},
   "outputs": [
    {
     "data": {
      "text/plain": [
       "1.4974093264248705"
      ]
     },
     "execution_count": 11,
     "metadata": {},
     "output_type": "execute_result"
    }
   ],
   "source": [
    "df.iloc[2:,:].Personal_8.str.split(',').str.len().mean()"
   ]
  },
  {
   "cell_type": "code",
   "execution_count": 12,
   "metadata": {},
   "outputs": [
    {
     "data": {
      "text/plain": [
       "1    0.139896\n",
       "2    0.056995\n",
       "3    0.056995\n",
       "4    0.383420\n",
       "5    0.772021\n",
       "6    0.088083\n",
       "Name: count, dtype: float64"
      ]
     },
     "execution_count": 12,
     "metadata": {},
     "output_type": "execute_result"
    }
   ],
   "source": [
    "pd.Series(np.concatenate(df.iloc[2:,:].Personal_8.str.split(',').tolist())).value_counts().sort_index()/193"
   ]
  },
  {
   "cell_type": "markdown",
   "metadata": {},
   "source": [
    "### 8\n",
    "Restricted to likely in 7"
   ]
  },
  {
   "cell_type": "code",
   "execution_count": 13,
   "metadata": {},
   "outputs": [
    {
     "data": {
      "text/plain": [
       "1.6363636363636365"
      ]
     },
     "execution_count": 13,
     "metadata": {},
     "output_type": "execute_result"
    }
   ],
   "source": [
    "df[df.Personal_7.isin(['5', '4'])].Personal_8.str.split(',').str.len().mean()"
   ]
  },
  {
   "cell_type": "code",
   "execution_count": 14,
   "metadata": {},
   "outputs": [
    {
     "data": {
      "text/plain": [
       "1    0.170455\n",
       "2    0.079545\n",
       "3    0.079545\n",
       "4    0.477273\n",
       "5    0.818182\n",
       "6    0.011364\n",
       "Name: count, dtype: float64"
      ]
     },
     "execution_count": 14,
     "metadata": {},
     "output_type": "execute_result"
    }
   ],
   "source": [
    "pd.Series(np.concatenate(df[df.Personal_7.isin(['5', '4'])].Personal_8.str.split(',').tolist())).value_counts().sort_index()/88"
   ]
  },
  {
   "cell_type": "markdown",
   "metadata": {},
   "source": [
    "### 4"
   ]
  },
  {
   "cell_type": "code",
   "execution_count": 15,
   "metadata": {},
   "outputs": [
    {
     "data": {
      "text/html": [
       "<div>\n",
       "<style scoped>\n",
       "    .dataframe tbody tr th:only-of-type {\n",
       "        vertical-align: middle;\n",
       "    }\n",
       "\n",
       "    .dataframe tbody tr th {\n",
       "        vertical-align: top;\n",
       "    }\n",
       "\n",
       "    .dataframe thead th {\n",
       "        text-align: right;\n",
       "    }\n",
       "</style>\n",
       "<table border=\"1\" class=\"dataframe\">\n",
       "  <thead>\n",
       "    <tr style=\"text-align: right;\">\n",
       "      <th></th>\n",
       "      <th>polarization</th>\n",
       "      <th>importance</th>\n",
       "    </tr>\n",
       "  </thead>\n",
       "  <tbody>\n",
       "    <tr>\n",
       "      <th>polarization</th>\n",
       "      <td>1.000000</td>\n",
       "      <td>0.237064</td>\n",
       "    </tr>\n",
       "    <tr>\n",
       "      <th>importance</th>\n",
       "      <td>0.237064</td>\n",
       "      <td>1.000000</td>\n",
       "    </tr>\n",
       "  </tbody>\n",
       "</table>\n",
       "</div>"
      ],
      "text/plain": [
       "              polarization  importance\n",
       "polarization      1.000000    0.237064\n",
       "importance        0.237064    1.000000"
      ]
     },
     "execution_count": 15,
     "metadata": {},
     "output_type": "execute_result"
    }
   ],
   "source": [
    "both=pd.concat([df[ ['polarization_'+str(i) for i in range(1,41)]].iloc[2:,:].astype('Int64').melt().rename(\n",
    "    columns={'value':'polarization'}),\n",
    "         df[ ['Personal_4_'+str(i) for i in range(1,41)]].iloc[2:,:].astype('Int64').melt().rename(\n",
    "    columns={'value':'importance'})], axis=1)[['polarization', 'importance']]\n",
    "both=both[~both.isna().any(axis=1)]\n",
    "both.astype('Int64').corr()"
   ]
  },
  {
   "cell_type": "code",
   "execution_count": 16,
   "metadata": {},
   "outputs": [
    {
     "data": {
      "text/html": [
       "<div>\n",
       "<style scoped>\n",
       "    .dataframe tbody tr th:only-of-type {\n",
       "        vertical-align: middle;\n",
       "    }\n",
       "\n",
       "    .dataframe tbody tr th {\n",
       "        vertical-align: top;\n",
       "    }\n",
       "\n",
       "    .dataframe thead th {\n",
       "        text-align: right;\n",
       "    }\n",
       "</style>\n",
       "<table border=\"1\" class=\"dataframe\">\n",
       "  <thead>\n",
       "    <tr style=\"text-align: right;\">\n",
       "      <th></th>\n",
       "      <th>polarization</th>\n",
       "      <th>importance</th>\n",
       "    </tr>\n",
       "  </thead>\n",
       "  <tbody>\n",
       "    <tr>\n",
       "      <th>polarization</th>\n",
       "      <td>1.000000</td>\n",
       "      <td>0.178701</td>\n",
       "    </tr>\n",
       "    <tr>\n",
       "      <th>importance</th>\n",
       "      <td>0.178701</td>\n",
       "      <td>1.000000</td>\n",
       "    </tr>\n",
       "  </tbody>\n",
       "</table>\n",
       "</div>"
      ],
      "text/plain": [
       "              polarization  importance\n",
       "polarization      1.000000    0.178701\n",
       "importance        0.178701    1.000000"
      ]
     },
     "execution_count": 16,
     "metadata": {},
     "output_type": "execute_result"
    }
   ],
   "source": [
    "both=pd.concat([pol.melt().rename(columns={'value':'polarization'}),\n",
    "         pers.melt().rename(columns={'value':'importance'})], axis=1)[['polarization', 'importance']]\n",
    "both=both[~both.isna().any(axis=1)]\n",
    "both.astype(int).corr()"
   ]
  },
  {
   "cell_type": "code",
   "execution_count": null,
   "metadata": {},
   "outputs": [],
   "source": []
  }
 ],
 "metadata": {
  "kernelspec": {
   "display_name": "Python 3 (ipykernel)",
   "language": "python",
   "name": "python3"
  },
  "language_info": {
   "codemirror_mode": {
    "name": "ipython",
    "version": 3
   },
   "file_extension": ".py",
   "mimetype": "text/x-python",
   "name": "python",
   "nbconvert_exporter": "python",
   "pygments_lexer": "ipython3",
   "version": "3.9.13"
  }
 },
 "nbformat": 4,
 "nbformat_minor": 4
}
